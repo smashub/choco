{
 "cells": [
  {
   "cell_type": "code",
   "execution_count": 22,
   "id": "initial_id",
   "metadata": {
    "collapsed": true,
    "ExecuteTime": {
     "end_time": "2023-09-14T16:11:43.398972Z",
     "start_time": "2023-09-14T16:11:43.382419Z"
    }
   },
   "outputs": [
    {
     "data": {
      "text/plain": "['Ab:maj(9)',\n 'Ab:maj(9)/9',\n 'Ab:maj(9)/3',\n 'Bb:maj/3',\n 'Eb:maj',\n 'Ab:maj',\n 'Bb:maj',\n 'B:maj',\n 'Db:maj/4',\n 'Bb:min7']"
     },
     "execution_count": 22,
     "metadata": {},
     "output_type": "execute_result"
    }
   ],
   "source": [
    "import json\n",
    "from pathlib import Path\n",
    "\n",
    "# open the chord file\n",
    "chord_file = Path('../assets/chords_count.json')\n",
    "chords = json.load(open(chord_file)).keys()\n",
    "list(chords)[:10]"
   ]
  },
  {
   "cell_type": "code",
   "execution_count": 15,
   "outputs": [],
   "source": [
    "from harte.harte import Harte\n",
    "\n",
    "# initialise a list to store the notes for each chord\n",
    "results = []\n",
    "\n",
    "for chord in chords:\n",
    "    if chord in ['N', 'X']:\n",
    "        continue\n",
    "    elif '/bb1' in chord:\n",
    "        chord = chord.replace('/bb1', '/7')\n",
    "    \n",
    "    # get the notes\n",
    "    chord_object = Harte(chord)\n",
    "    notes = chord_object.notes\n",
    "    frequencies = [note.pitch.frequency for note in notes]\n",
    "    notes = [note.name.replace('-', 'b') for note in notes]\n",
    "    freq_dict = {f'freq_{i+1}' : freq for i, freq in enumerate(frequencies)}\n",
    "    notes_dict = {f'note_{i+1}' : note for i, note in enumerate(notes)}\n",
    "    results.append({'chord': chord, **notes_dict, **freq_dict})"
   ],
   "metadata": {
    "collapsed": false,
    "ExecuteTime": {
     "end_time": "2023-09-14T16:05:29.284836Z",
     "start_time": "2023-09-14T16:05:12.971204Z"
    }
   },
   "id": "a967a6d1a8e827b2"
  },
  {
   "cell_type": "code",
   "execution_count": 20,
   "outputs": [
    {
     "data": {
      "text/plain": "         chord note_1 note_2 note_3 note_4 note_5 note_6 note_7 note_8  \\\n0    Ab:maj(9)     Ab      C     Eb     Bb    NaN    NaN    NaN    NaN   \n1  Ab:maj(9)/9     Ab      C     Eb     Bb    NaN    NaN    NaN    NaN   \n2  Ab:maj(9)/3     Ab      C     Eb     Bb    NaN    NaN    NaN    NaN   \n3     Bb:maj/3     Bb      D      F    NaN    NaN    NaN    NaN    NaN   \n4       Eb:maj     Eb      G     Bb    NaN    NaN    NaN    NaN    NaN   \n\n       freq_1      freq_2      freq_3      freq_4  freq_5  freq_6  freq_7  \\\n0  415.304698  523.251131  622.253967  932.327523     NaN     NaN     NaN   \n1  415.304698  523.251131  622.253967  932.327523     NaN     NaN     NaN   \n2  415.304698  523.251131  622.253967  932.327523     NaN     NaN     NaN   \n3  466.163762  587.329536  698.456463         NaN     NaN     NaN     NaN   \n4  311.126984  391.995436  466.163762         NaN     NaN     NaN     NaN   \n\n   freq_8  \n0     NaN  \n1     NaN  \n2     NaN  \n3     NaN  \n4     NaN  ",
      "text/html": "<div>\n<style scoped>\n    .dataframe tbody tr th:only-of-type {\n        vertical-align: middle;\n    }\n\n    .dataframe tbody tr th {\n        vertical-align: top;\n    }\n\n    .dataframe thead th {\n        text-align: right;\n    }\n</style>\n<table border=\"1\" class=\"dataframe\">\n  <thead>\n    <tr style=\"text-align: right;\">\n      <th></th>\n      <th>chord</th>\n      <th>note_1</th>\n      <th>note_2</th>\n      <th>note_3</th>\n      <th>note_4</th>\n      <th>note_5</th>\n      <th>note_6</th>\n      <th>note_7</th>\n      <th>note_8</th>\n      <th>freq_1</th>\n      <th>freq_2</th>\n      <th>freq_3</th>\n      <th>freq_4</th>\n      <th>freq_5</th>\n      <th>freq_6</th>\n      <th>freq_7</th>\n      <th>freq_8</th>\n    </tr>\n  </thead>\n  <tbody>\n    <tr>\n      <th>0</th>\n      <td>Ab:maj(9)</td>\n      <td>Ab</td>\n      <td>C</td>\n      <td>Eb</td>\n      <td>Bb</td>\n      <td>NaN</td>\n      <td>NaN</td>\n      <td>NaN</td>\n      <td>NaN</td>\n      <td>415.304698</td>\n      <td>523.251131</td>\n      <td>622.253967</td>\n      <td>932.327523</td>\n      <td>NaN</td>\n      <td>NaN</td>\n      <td>NaN</td>\n      <td>NaN</td>\n    </tr>\n    <tr>\n      <th>1</th>\n      <td>Ab:maj(9)/9</td>\n      <td>Ab</td>\n      <td>C</td>\n      <td>Eb</td>\n      <td>Bb</td>\n      <td>NaN</td>\n      <td>NaN</td>\n      <td>NaN</td>\n      <td>NaN</td>\n      <td>415.304698</td>\n      <td>523.251131</td>\n      <td>622.253967</td>\n      <td>932.327523</td>\n      <td>NaN</td>\n      <td>NaN</td>\n      <td>NaN</td>\n      <td>NaN</td>\n    </tr>\n    <tr>\n      <th>2</th>\n      <td>Ab:maj(9)/3</td>\n      <td>Ab</td>\n      <td>C</td>\n      <td>Eb</td>\n      <td>Bb</td>\n      <td>NaN</td>\n      <td>NaN</td>\n      <td>NaN</td>\n      <td>NaN</td>\n      <td>415.304698</td>\n      <td>523.251131</td>\n      <td>622.253967</td>\n      <td>932.327523</td>\n      <td>NaN</td>\n      <td>NaN</td>\n      <td>NaN</td>\n      <td>NaN</td>\n    </tr>\n    <tr>\n      <th>3</th>\n      <td>Bb:maj/3</td>\n      <td>Bb</td>\n      <td>D</td>\n      <td>F</td>\n      <td>NaN</td>\n      <td>NaN</td>\n      <td>NaN</td>\n      <td>NaN</td>\n      <td>NaN</td>\n      <td>466.163762</td>\n      <td>587.329536</td>\n      <td>698.456463</td>\n      <td>NaN</td>\n      <td>NaN</td>\n      <td>NaN</td>\n      <td>NaN</td>\n      <td>NaN</td>\n    </tr>\n    <tr>\n      <th>4</th>\n      <td>Eb:maj</td>\n      <td>Eb</td>\n      <td>G</td>\n      <td>Bb</td>\n      <td>NaN</td>\n      <td>NaN</td>\n      <td>NaN</td>\n      <td>NaN</td>\n      <td>NaN</td>\n      <td>311.126984</td>\n      <td>391.995436</td>\n      <td>466.163762</td>\n      <td>NaN</td>\n      <td>NaN</td>\n      <td>NaN</td>\n      <td>NaN</td>\n      <td>NaN</td>\n    </tr>\n  </tbody>\n</table>\n</div>"
     },
     "execution_count": 20,
     "metadata": {},
     "output_type": "execute_result"
    }
   ],
   "source": [
    "# save the results as csv\n",
    "import pandas as pd\n",
    "\n",
    "df = pd.DataFrame(results)\n",
    "# order the columns\n",
    "df = df[['chord', 'note_1', 'note_2', 'note_3', 'note_4', 'note_5', 'note_6', 'note_7', 'note_8',\n",
    "         'freq_1', 'freq_2', 'freq_3', 'freq_4', 'freq_5', 'freq_6', 'freq_7', 'freq_8']]\n",
    "df.to_csv('../assets/chords_notes.csv', index=False)\n",
    "df.head()"
   ],
   "metadata": {
    "collapsed": false,
    "ExecuteTime": {
     "end_time": "2023-09-14T16:11:09.398996Z",
     "start_time": "2023-09-14T16:11:09.248403Z"
    }
   },
   "id": "f1c86c1e81882376"
  }
 ],
 "metadata": {
  "kernelspec": {
   "display_name": "Python 3",
   "language": "python",
   "name": "python3"
  },
  "language_info": {
   "codemirror_mode": {
    "name": "ipython",
    "version": 2
   },
   "file_extension": ".py",
   "mimetype": "text/x-python",
   "name": "python",
   "nbconvert_exporter": "python",
   "pygments_lexer": "ipython2",
   "version": "2.7.6"
  }
 },
 "nbformat": 4,
 "nbformat_minor": 5
}
