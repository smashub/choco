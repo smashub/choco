{
 "cells": [
  {
   "cell_type": "markdown",
   "source": [
    "## Parse the grammar and consider only chord-related information"
   ],
   "metadata": {
    "collapsed": false,
    "pycharm": {
     "name": "#%% md\n"
    }
   }
  },
  {
   "cell_type": "code",
   "execution_count": 1,
   "outputs": [
    {
     "data": {
      "text/plain": "{'abc_music21.lark': {'major': ['', 'M', 'maj'],\n  'minor': ['m', 'min'],\n  'augmented': ['+', 'aug'],\n  'diminished': ['dim', 'o'],\n  'dominant_seventh': ['7', 'dom7'],\n  'major_seventh': ['maj7', 'M7'],\n  'minor_major_seventh': ['mM7', 'm#7', 'minmaj7'],\n  'minor_seventh': ['m7', 'min7'],\n  'augmented_major_seventh': ['+M7', 'augmaj7'],\n  'augmented_seventh': ['7+', '+7', 'aug7'],\n  'half_diminished_seventh': ['ø7', 'm7b5'],\n  'diminished_seventh': ['o7', 'dim7'],\n  'seventh_flat_five': ['dom7dim5'],\n  'major_sixth': ['6'],\n  'minor_sixth': ['m6', 'min6'],\n  'major_ninth': ['M9', 'Maj9'],\n  'dominant_ninth': ['9', 'dom9'],\n  'minor_major_ninth': ['mM9', 'minmaj9'],\n  'minor_ninth': ['m9', 'min9'],\n  'augmented_major_ninth': ['+M9', 'augmaj9'],\n  'augmented_dominant_ninth': ['9#5', '+9', 'aug9'],\n  'half_diminished_ninth': ['ø9'],\n  'half_diminished_minor_ninth': ['øb9'],\n  'diminished_ninth': ['o9', 'dim9'],\n  'diminished_minor_ninth': ['ob9', 'dimb9'],\n  'dominant_11th': ['11', 'dom11'],\n  'major_11th': ['M11', 'Maj11'],\n  'minor_major_11th': ['mM11', 'minmaj11'],\n  'minor_11th': ['m11', 'min11'],\n  'augmented_major_11th': ['+M11', 'augmaj11'],\n  'augmented_11th': ['+11', 'aug11'],\n  'half_diminished_11th': ['ø11'],\n  'diminished_11th': ['o11', 'dim11'],\n  'major_13th': ['M13', 'Maj13'],\n  'dominant_13th': ['13', 'dom13'],\n  'minor_major_13th': ['mM13', 'minmaj13'],\n  'minor_13th': ['m13', 'min13'],\n  'augmented_major_13th': ['+M13', 'augmaj13'],\n  'augmented_dominant_13th': ['+13', 'aug13'],\n  'half_diminished_13th': ['ø13'],\n  'suspended_second': ['sus2'],\n  'suspended_fourth': ['sus', 'sus4'],\n  'suspended_fourth_seventh': ['7sus', '7sus4'],\n  'neapolitan': ['N6'],\n  'italian': ['It+6', 'It'],\n  'french': ['Fr+6', 'Fr'],\n  'german': ['Gr+6', 'Ger'],\n  'pedal': ['pedal'],\n  'power': ['power'],\n  'tristan': ['tristan'],\n  'subtract_degree': ['subtract\" altered_degree'],\n  'alter_degree': ['alter\" altered_degree'],\n  'add_degree': ['add\" altered_degree'],\n  'slash': ['/\" altered_note']},\n 'leadsheet_weimar.lark': {'major': ['', 'M', 'maj', 'j'],\n  'minor': ['m', 'min', '-'],\n  'augmented': ['+', 'aug'],\n  'diminished': ['dim', 'o'],\n  'dominant_seventh': ['7', 'dom7'],\n  'major_seventh': ['maj7', 'M7', 'j7'],\n  'minor_major_seventh': ['mM7', 'm#7', 'minmaj7', '-j7', '-maj7'],\n  'minor_seventh': ['m7', 'min7', '-7'],\n  'augmented_major_seventh': ['+M7', 'augmaj7', '+j7'],\n  'augmented_seventh': ['7+', '+7', 'aug7'],\n  'half_diminished_seventh': ['ø7', 'm7b5'],\n  'diminished_seventh': ['o7', 'dim7'],\n  'seventh_flat_five': ['dom7dim5'],\n  'major_sixth': ['6'],\n  'minor_sixth': ['m6', 'min6', '-6'],\n  'major_ninth': ['M9', 'Maj9', 'j79'],\n  'dominant_ninth': ['9', 'dom9', '79'],\n  'minor_major_ninth': ['mM9', 'minmaj9', '-j79#'],\n  'minor_ninth': ['m9', 'min9', '-79'],\n  'augmented_major_ninth': ['+M9', 'augmaj9', '+79#', '+79'],\n  'augmented_dominant_ninth': ['9#5', '+9', 'aug9', '+79b'],\n  'half_diminished_ninth': ['ø9'],\n  'half_diminished_minor_ninth': ['øb9'],\n  'diminished_ninth': ['o9', 'dim9'],\n  'diminished_minor_ninth': ['ob9', 'dimb9'],\n  'flat_ninth': ['79b'],\n  'minor_flat_ninth': ['-79b'],\n  'sharp_ninth': ['79#'],\n  'major_sharp_ninth': ['j79#'],\n  'sixth_ninth': ['69'],\n  'minor_sixth_ninth': ['-69'],\n  'dominant_11th': ['11', 'dom11', '7911'],\n  'major_11th': ['M11', 'Maj11', 'j7911'],\n  'minor_major_11th': ['mM11', 'minmaj11'],\n  'minor_11th': ['m11', 'min11', '-7911'],\n  'augmented_major_11th': ['+M11', 'augmaj11'],\n  'augmented_11th': ['+11', 'aug11'],\n  'half_diminished_11th': ['ø11'],\n  'diminished_11th': ['o11', 'dim11'],\n  'major_sharp_11th': ['j7911#'],\n  'sharp_11th': ['7911#'],\n  'augmented_sharp_11th': ['+7911#'],\n  'sharp_ninth_sharp_11th': ['79#11#'],\n  'major_sharp_ninth_sharp_11th': ['j79#11#'],\n  'minor_major_sharp_11th': ['-j7911#'],\n  'sixth_ninth_sharp_eleventh': ['6911#'],\n  'major_13th': ['M13', 'Maj13', '7913'],\n  'dominant_13th': ['13', 'dom13', '79b13'],\n  'minor_major_13th': ['mM13', 'minmaj13', '-j7913'],\n  'minor_13th': ['m13', 'min13', '-7913'],\n  'augmented_major_13th': ['+M13', 'augmaj13'],\n  'augmented_dominant_13th': ['+13', 'aug13'],\n  'half_diminished_13th': ['ø13'],\n  'sharp_ninth_13th': ['79#13'],\n  'flat_13th': ['7913b'],\n  'flat_ninth_flat_13th': ['79b13b'],\n  'suspended_second': ['sus2'],\n  'suspended_fourth': ['sus', 'sus4'],\n  'suspended_fourth_seventh': ['7sus', '7sus4', 'sus7'],\n  'suspended_ninth': ['sus79'],\n  'suspended_thirteen': ['sus7913'],\n  'neapolitan': ['N6'],\n  'italian': ['It+6', 'It'],\n  'french': ['Fr+6', 'Fr'],\n  'german': ['Gr+6', 'Ger'],\n  'pedal': ['pedal'],\n  'power': ['power'],\n  'tristan': ['tristan'],\n  'alt': ['alt', '7alt'],\n  'subtract_degree': ['subtract\" altered_degree'],\n  'alter_degree': ['alter\" altered_degree'],\n  'add_degree': ['add\" altered_degree'],\n  'slash': ['/\" altered_note']},\n 'leadsheet_jazz_corpus.lark': {'major': ['', 'M', 'maj', 'j'],\n  'minor': ['m', 'min', '-'],\n  'augmented': ['+', 'aug'],\n  'diminished': ['dim', 'o'],\n  'dominant_seventh': ['7', 'dom7', '%7'],\n  'major_seventh': ['maj7', 'M7', 'j7'],\n  'minor_major_seventh': ['mM7', 'm#7', 'minmaj7', '-j7', '-maj7'],\n  'minor_seventh': ['m7', 'min7', '-7', 'm,M7'],\n  'augmented_major_seventh': ['+M7', 'augmaj7'],\n  'augmented_seventh': ['7+', '+7', 'aug7'],\n  'half_diminished_seventh': ['ø7', 'm7b5'],\n  'diminished_seventh': ['o7', 'dim7'],\n  'seventh_flat_five': ['b5,7'],\n  'major_seventh_flat_five': ['b5,M7'],\n  'major_sixth': ['6'],\n  'minor_sixth': ['m6', 'min6', '-6'],\n  'major_ninth': ['M9', 'Maj9', 'j79'],\n  'dominant_ninth': ['9', 'dom9', '79'],\n  'minor_major_ninth': ['mM9', 'minmaj9', '-j79#'],\n  'minor_ninth': ['m9', 'min9', '-79'],\n  'augmented_major_ninth': ['+M9', 'augmaj9', '+79#', '+79'],\n  'augmented_dominant_ninth': ['9#5', '+9', 'aug9', '+79b'],\n  'half_diminished_ninth': ['ø9'],\n  'half_diminished_minor_ninth': ['øb9'],\n  'diminished_ninth': ['o9', 'dim9'],\n  'diminished_minor_ninth': ['ob9', 'dimb9'],\n  'flat_ninth': ['79b'],\n  'minor_flat_ninth': ['-79b'],\n  'sharp_ninth': ['79#'],\n  'major_sharp_ninth': ['j79#'],\n  'sixth_ninth': ['69'],\n  'minor_sixth_ninth': ['-69'],\n  'dominant_11th': ['11', 'dom11', '7911'],\n  'major_11th': ['M11', 'Maj11', 'j7911'],\n  'minor_major_11th': ['mM11', 'minmaj11'],\n  'minor_11th': ['m11', 'min11', '-7911'],\n  'augmented_major_11th': ['+M11', 'augmaj11'],\n  'augmented_11th': ['+11', 'aug11'],\n  'half_diminished_11th': ['ø11'],\n  'diminished_11th': ['o11', 'dim11'],\n  'major_sharp_11th': ['j7911#'],\n  'sharp_11th': ['7911#'],\n  'augmented_sharp_11th': ['+7911#'],\n  'sharp_ninth_sharp_11th': ['79#11#'],\n  'major_sharp_ninth_sharp_11th': ['j79#11#'],\n  'minor_major_sharp_11th': ['-j7911#'],\n  'sixth_ninth_sharp_eleventh': ['6911#'],\n  'major_13th': ['M13', 'Maj13', '7913'],\n  'dominant_13th': ['13', 'dom13', '79b13'],\n  'minor_major_13th': ['mM13', 'minmaj13', '-j7913'],\n  'minor_13th': ['m13', 'min13', '-7913'],\n  'augmented_major_13th': ['+M13', 'augmaj13'],\n  'augmented_dominant_13th': ['+13', 'aug13'],\n  'half_diminished_13th': ['ø13'],\n  'sharp_ninth_13th': ['79#13'],\n  'flat_13th': ['7913b'],\n  'flat_ninth_flat_13th': ['79b13b'],\n  'suspended_second': ['sus2'],\n  'suspended_fourth': ['sus', 'sus4'],\n  'suspended_fourth_seventh': ['7sus', '7sus4', 'sus7', 'sus4,7'],\n  'suspended_ninth': ['sus79'],\n  'suspended_thirteen': ['sus7913'],\n  'neapolitan': ['N6'],\n  'italian': ['It+6', 'It'],\n  'french': ['Fr+6', 'Fr'],\n  'german': ['Gr+6', 'Ger'],\n  'pedal': ['pedal'],\n  'power': ['power'],\n  'tristan': ['tristan'],\n  'alt': ['alt', '7alt'],\n  'subtract_degree': ['subtract\" altered_degree'],\n  'alter_degree': ['alter\" altered_degree'],\n  'add_degree': ['add\" altered_degree'],\n  'slash': ['/\" altered_note']},\n 'leadsheet_music21.lark': {'major': ['', 'M', 'maj'],\n  'minor': ['m', 'min'],\n  'augmented': ['+', 'aug'],\n  'diminished': ['dim', 'o'],\n  'dominant_seventh': ['7', 'dom7'],\n  'major_seventh': ['maj7', 'M7'],\n  'minor_major_seventh': ['mM7', 'm#7', 'minmaj7'],\n  'minor_seventh': ['m7', 'min7'],\n  'augmented_major_seventh': ['+M7', 'augmaj7'],\n  'augmented_seventh': ['7+', '+7', 'aug7'],\n  'half_diminished_seventh': ['ø7', 'm7b5'],\n  'diminished_seventh': ['o7', 'dim7'],\n  'seventh_flat_five': ['dom7dim5'],\n  'major_sixth': ['6'],\n  'minor_sixth': ['m6', 'min6'],\n  'major_ninth': ['M9', 'Maj9'],\n  'dominant_ninth': ['9', 'dom9'],\n  'minor_major_ninth': ['mM9', 'minmaj9'],\n  'minor_ninth': ['m9', 'min9'],\n  'augmented_major_ninth': ['+M9', 'augmaj9'],\n  'augmented_dominant_ninth': ['9#5', '+9', 'aug9'],\n  'half_diminished_ninth': ['ø9'],\n  'half_diminished_minor_ninth': ['øb9'],\n  'diminished_ninth': ['o9', 'dim9'],\n  'diminished_minor_ninth': ['ob9', 'dimb9'],\n  'dominant_11th': ['11', 'dom11'],\n  'major_11th': ['M11', 'Maj11'],\n  'minor_major_11th': ['mM11', 'minmaj11'],\n  'minor_11th': ['m11', 'min11'],\n  'augmented_major_11th': ['+M11', 'augmaj11'],\n  'augmented_11th': ['+11', 'aug11'],\n  'half_diminished_11th': ['ø11'],\n  'diminished_11th': ['o11', 'dim11'],\n  'major_13th': ['M13', 'Maj13'],\n  'dominant_13th': ['13', 'dom13'],\n  'minor_major_13th': ['mM13', 'minmaj13'],\n  'minor_13th': ['m13', 'min13'],\n  'augmented_major_13th': ['+M13', 'augmaj13'],\n  'augmented_dominant_13th': ['+13', 'aug13'],\n  'half_diminished_13th': ['ø13'],\n  'suspended_second': ['sus2'],\n  'suspended_fourth': ['sus', 'sus4'],\n  'suspended_fourth_seventh': ['7sus', '7sus4'],\n  'neapolitan': ['N6'],\n  'italian': ['It+6', 'It'],\n  'french': ['Fr+6', 'Fr'],\n  'german': ['Gr+6', 'Ger'],\n  'pedal': ['pedal'],\n  'power': ['power'],\n  'tristan': ['tristan'],\n  'subtract_degree': ['subtract\" altered_degree'],\n  'alter_degree': ['alter\" altered_degree'],\n  'add_degree': ['add\" altered_degree'],\n  'slash': ['/\" altered_note']},\n 'leadsheet_ireal.lark': {'major': ['', 'M', 'maj', '^', 'aj'],\n  'minor': ['m', 'min', '-'],\n  'augmented': ['+', 'aug', '7#5', 'ug', '5+', '+5'],\n  'minor_augmented': ['-7#5', '-#5'],\n  'diminished': ['dim', 'o', 'im', '-b5'],\n  'dominant_seventh': ['7', 'dom7', 'h7'],\n  'major_seventh': ['maj7', 'M7', '^7', 'aj7', '7#'],\n  'minor_major_seventh': ['mM7', 'm#7', 'minmaj7', '-^7'],\n  'minor_seventh': ['m7', 'min7', '-7', 'im7'],\n  'augmented_major_seventh': ['+M7', 'augmaj7', '^7#5'],\n  'augmented_seventh': ['7+', '+7', 'aug7'],\n  'half_diminished_seventh': ['ø7', '-7b5', '7b5'],\n  'diminished_seventh': ['o7', 'dim7'],\n  'diminished_seventh_major_seventh': ['o^7'],\n  'seventh_flat_five': ['dom7dim5'],\n  'major_seventh_flat_five': ['^7#5'],\n  'major_sixth': ['6'],\n  'minor_sixth': ['m6', 'min6', '-6'],\n  'minor_flat_sixth': ['-b6'],\n  'major_ninth': ['M9', 'Maj9', '79#'],\n  'dominant_ninth': ['9', 'dom9', '79', '^9', 'aj9'],\n  'minor_major_ninth': ['mM9', 'minmaj9', '-^9'],\n  'minor_ninth': ['m9', 'min9', '-9', '-79'],\n  'augmented_major_ninth': ['+M9', 'augmaj9', '#5#9'],\n  'augmented_sharp_ninth': ['7#9#5', '+79#'],\n  'augmented_dominant_ninth': ['9#5', '+9', 'aug9'],\n  'half_diminished_ninth': ['ø9'],\n  'half_diminished_minor_ninth': ['øb9'],\n  'diminished_ninth': ['o9', 'dim9'],\n  'diminished_minor_ninth': ['ob9', 'dimb9'],\n  'flat_ninth': ['7b9'],\n  'minor_flat_ninth': ['-7b9'],\n  'sharp_ninth': ['7#9'],\n  'major_sharp_ninth': ['^7#'],\n  'sixth_ninth': ['69'],\n  'minor_sixth_ninth': ['-69'],\n  'sharp_7th_flat_5th_flat_9th': ['#7b9b5'],\n  'seventh_flat_9th_sharp_9th': ['7b9#9', 'b9b5'],\n  'seventh_sharp_9th_flat_5th': ['7#9b5', '#9b5'],\n  'seventh_flat_9th_flat_5th': ['7b9b5', 'b9b5', 'b7b9b5'],\n  'seventh_flat_9th_sharp_5th': ['7b9#5', 'b9#5'],\n  'flat_fifth_9th': ['9b5', 'b7b9b5'],\n  'dominant_11th': ['11', 'dom11'],\n  'major_11th': ['M11', 'Maj11'],\n  'minor_major_11th': ['mM11', 'minmaj11'],\n  'minor_11th': ['m11', 'min11', '-7911', '-7911', '-11'],\n  'augmented_major_11th': ['+M11', 'augmaj11', 'j7911#'],\n  'augmented_11th': ['+11', 'aug11', '7911#'],\n  'half_diminished_11th': ['ø11'],\n  'diminished_11th': ['o11', 'dim11'],\n  'major_sharp_11th': ['^79#11', '^7#11'],\n  'sharp_11th': ['79#11', '7#11', '9#11'],\n  'augmented_sharp_11th': ['+79#11'],\n  'sharp_ninth_sharp_11th': ['7#9#11'],\n  'major_sharp_ninth_sharp_11th': ['^7#9#11'],\n  'minor_major_sharp_11th': ['-^79#11'],\n  'sixth_ninth_sharp_eleventh': ['69#11'],\n  'flat_ninth_sharp_11th': ['7b9#11', 'b9#11'],\n  'major_ninth_sharp_11th': ['^9#11'],\n  'major_13th': ['M13', 'Maj13', '^13'],\n  'dominant_13th': ['13', 'dom13', '7913', '713', '913'],\n  'minor_major_13th': ['mM13', 'minmaj13'],\n  'minor_13th': ['m13', 'min13', '-13'],\n  'augmented_major_13th': ['+M13', 'augmaj13'],\n  'augmented_dominant_13th': ['+13', 'aug13'],\n  'half_diminished_13th': ['ø13'],\n  'sharp_ninth_13th': ['7#913', '13#9'],\n  'flat_ninth_sharp_13th': ['#13b9'],\n  'flat_13th': ['79b13', '7b13'],\n  'flat_ninth_flat_13th': ['7b9b13', 'b13b9'],\n  'flat_13th_sharp_11th': ['b13#11'],\n  'flat_ninth_13th': ['13b9'],\n  'sharp_eleventh_13th': ['13#11'],\n  'sharp_ninth_sharp_13th': ['7#9#13', '#9#13', '#13#9'],\n  'sharp_ninth_flat_13th': ['7#9b13', 'b13#9', '#9b13'],\n  'suspended_second': ['sus2', '2', 'us2'],\n  'suspended_fourth': ['sus', 'sus4', 'sus', 'us', 'us4'],\n  'suspended_fourth_seventh': ['7sus', '7sus4', 'sus7', 'us7'],\n  'suspended_ninth': ['sus79', 'sus9', '9sus', 'us9'],\n  'suspended_flat_ninth': ['7b9sus', 'usb9'],\n  'suspended_thirteen': ['sus7913', 'sus13', '13sus', 'us13'],\n  'suspended_flat_thirteen': ['b7b13sus', '7b13sus'],\n  'neapolitan': ['N6'],\n  'italian': ['It+6', 'It'],\n  'french': ['Fr+6', 'Fr'],\n  'german': ['Gr+6', 'Ger'],\n  'pedal': ['pedal'],\n  'power': ['power', '5', '-5'],\n  'tristan': ['tristan'],\n  'alt': ['alt', '7alt', '7at'],\n  'subtract_degree': ['subtract\" altered_degree'],\n  'alter_degree': ['alter\" altered_degree'],\n  'add_degree': ['add\" altered_degree', 'dd\" altered_degree'],\n  'slash': ['/\" altered_note']}}"
     },
     "execution_count": 1,
     "metadata": {},
     "output_type": "execute_result"
    }
   ],
   "source": [
    "from pathlib import Path\n",
    "import os\n",
    "\n",
    "grammar_path = Path('../grammar/')\n",
    "test_grammar = Path('../grammar/abc/abc_music21.lark')\n",
    "\n",
    "all_grammars = {}\n",
    "for path, dirs, files in os.walk(grammar_path):\n",
    "    for file in files:\n",
    "        if file.endswith('.lark'):\n",
    "            grammar_dict = {}\n",
    "            with open(Path(path) / file, 'r') as g:\n",
    "                start = False\n",
    "                for line in g:\n",
    "                    if 'shorthand' in line:\n",
    "                        start = True\n",
    "                        next(g)\n",
    "                        continue\n",
    "                    if start:\n",
    "                        if line[:1] != '/' and line != '\\n' and '?' not in line:\n",
    "                            label, shorthands = line.split(':')\n",
    "                            shorts = [x.replace('\\n', '').strip(' ').strip('\"') for x in shorthands.split('|')]\n",
    "                            grammar_dict[label] = shorts\n",
    "\n",
    "            all_grammars[file] = grammar_dict\n",
    "\n",
    "all_grammars"
   ],
   "metadata": {
    "collapsed": false,
    "pycharm": {
     "name": "#%%\n"
    }
   }
  },
  {
   "cell_type": "markdown",
   "source": [
    "## Get chord grades"
   ],
   "metadata": {
    "collapsed": false,
    "pycharm": {
     "name": "#%% md\n"
    }
   }
  },
  {
   "cell_type": "code",
   "execution_count": null,
   "outputs": [],
   "source": [
    "import sys\n",
    "import pandas as pd\n",
    "\n",
    "sys.path.append(os.path.join(os.getcwd(), '..', 'lark-converters'))\n",
    "sys.path.append(os.path.join(os.getcwd(), '..'))\n",
    "\n",
    "from lark_to_harte import MISSING_INTERVALS, HARTE_SHORTHAND_MAP\n",
    "from music21 import harmony\n",
    "\n",
    "print(harmony.CHORD_TYPES['major'][0].replace('-', 'b'))\n",
    "\n",
    "for grammar_name, grammar_shorts in all_grammars.items():\n",
    "    short_grades = []\n",
    "    print(grammar_name, '\\n')\n",
    "    for short_name, short_variants in grammar_shorts.items():\n",
    "        short_name = short_name.replace('_', '-')\n",
    "        # print(short_name, MISSING_INTERVALS.keys())\n",
    "        if short_name in harmony.CHORD_TYPES.keys():\n",
    "            short_grades.append([short_name, short_variants, harmony.CHORD_TYPES[short_name][0].replace('-', 'b')])\n",
    "        if short_name in MISSING_INTERVALS.keys():\n",
    "            short_grades.append([short_name, short_variants, MISSING_INTERVALS[short_name].replace('-', 'b')])\n",
    "\n",
    "        df = pd.DataFrame(short_grades, columns=['chord_name', 'shorthands', 'grades_harte'])\n",
    "        writer = pd.ExcelWriter(f'validation_{grammar_name.rstrip(\".lark\")}.xlsx', engine='xlsxwriter')\n",
    "        df.to_excel(writer, sheet_name=grammar_name, index=False)\n",
    "        writer.save()\n",
    "\n",
    "    print(short_grades)"
   ],
   "metadata": {
    "collapsed": false,
    "pycharm": {
     "name": "#%%\n"
    }
   }
  }
 ],
 "metadata": {
  "kernelspec": {
   "display_name": "Python 3",
   "language": "python",
   "name": "python3"
  },
  "language_info": {
   "codemirror_mode": {
    "name": "ipython",
    "version": 2
   },
   "file_extension": ".py",
   "mimetype": "text/x-python",
   "name": "python",
   "nbconvert_exporter": "python",
   "pygments_lexer": "ipython2",
   "version": "2.7.6"
  }
 },
 "nbformat": 4,
 "nbformat_minor": 0
}