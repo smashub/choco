{
 "cells": [
  {
   "cell_type": "markdown",
   "source": [
    "# Converter-Test: test of the Converters Module"
   ],
   "metadata": {
    "collapsed": false
   }
  },
  {
   "cell_type": "code",
   "execution_count": 24,
   "metadata": {
    "collapsed": true
   },
   "outputs": [],
   "source": [
    "import os\n",
    "import sys\n",
    "from pathlib import Path\n",
    "from statistics import mean\n",
    "\n",
    "import matplotlib.pyplot as plt\n",
    "import pandas as pd\n",
    "\n",
    "RESULTS_PATH = Path('../choco/converters/validation/results')\n",
    "\n",
    "sys.path.append(os.path.join(os.path.dirname(os.getcwd()), 'choco'))"
   ]
  },
  {
   "cell_type": "code",
   "execution_count": 25,
   "outputs": [],
   "source": [
    "def open_results(results_path: str) -> None:\n",
    "    pass"
   ],
   "metadata": {
    "collapsed": false
   }
  },
  {
   "cell_type": "markdown",
   "source": [
    "### Process results folder"
   ],
   "metadata": {
    "collapsed": false
   }
  },
  {
   "cell_type": "code",
   "execution_count": 26,
   "outputs": [
    {
     "name": "stdout",
     "output_type": "stream",
     "text": [
      "Found 10 biased evaluation files:\n",
      " ['wikifonia_1194', 'wikifonia_1047', 'rock-corpus_4', 'rock-corpus_16', 'ireal-pro_914', 'ireal-pro_542', 'weimar_8', 'weimar_263', 'when-in-rome_109', 'when-in-rome_406']\n",
      "\n",
      "Found 10 unbiased evaluation files:\n",
      " ['wikifonia_3442', 'wikifonia_4327', 'rock-corpus_34', 'rock-corpus_183', 'ireal-pro_558', 'ireal-pro_1103', 'weimar_433', 'weimar_279', 'when-in-rome_205', 'when-in-rome_61']\n",
      "\n"
     ]
    }
   ],
   "source": [
    "converters_group = {\n",
    "    'wikifonia': 'leadsheet',\n",
    "    'ireal-pro': 'leadsheet',\n",
    "    'weimar': 'leadsheet',\n",
    "    'nottingham': 'leadsheet',\n",
    "    'when-in-rome': 'roman',\n",
    "    'rock-corpus': 'roman',\n",
    "    'jazz-corpus': 'leadsheet',\n",
    "    'band-in-a-box': 'prettify-harte',\n",
    "    'mozart-piano-sonatas': 'roman',\n",
    "}\n",
    "\n",
    "biased_paths = [p for p in RESULTS_PATH.rglob('s2-0[1-2]/**/*.xlsx')]\n",
    "unbiased_paths = [p for p in RESULTS_PATH.rglob('s2-0[3-4]/**/*.xlsx')]\n",
    "\n",
    "print(f'Found {len(biased_paths)} biased evaluation files:\\n {[x.stem for x in biased_paths]}\\n')\n",
    "print(f'Found {len(unbiased_paths)} unbiased evaluation files:\\n {[x.stem for x in unbiased_paths]}\\n')"
   ],
   "metadata": {
    "collapsed": false
   }
  },
  {
   "cell_type": "code",
   "execution_count": 27,
   "outputs": [
    {
     "data": {
      "text/plain": "       original converted  correct?  \\\n1        B-7/E-    Bb:7/4       1.0   \n2            E-    Eb:maj       1.0   \n3           E-7      Eb:7       1.0   \n4         A-/E-  Ab:maj/5       1.0   \n5            E-    Eb:maj       1.0   \n..          ...       ...       ...   \n15  C major:I64   C:maj/5       1.0   \n16   C major:V7       G:7       1.0   \n17  C major:I64   C:maj/5       1.0   \n18    C major:V     G:maj       1.0   \n19    C major:I     C:maj       1.0   \n\n                                                notes     partition  \\\n1                                                 NaN     wikifonia   \n2                                                 NaN     wikifonia   \n3                                                 NaN     wikifonia   \n4   I don't understand this one, Ab major always h...     wikifonia   \n5                                                 NaN     wikifonia   \n..                                                ...           ...   \n15                                          C maj / 5  when-in-rome   \n16                                                NaN  when-in-rome   \n17                                          C maj / 5  when-in-rome   \n18                                                NaN  when-in-rome   \n19                                                NaN  when-in-rome   \n\n    converter Unnamed: 7  \n1   leadsheet        NaN  \n2   leadsheet        NaN  \n3   leadsheet        NaN  \n4   leadsheet        NaN  \n5   leadsheet        NaN  \n..        ...        ...  \n15      roman        NaN  \n16      roman        NaN  \n17      roman        NaN  \n18      roman        NaN  \n19      roman        NaN  \n\n[100 rows x 7 columns]",
      "text/html": "<div>\n<style scoped>\n    .dataframe tbody tr th:only-of-type {\n        vertical-align: middle;\n    }\n\n    .dataframe tbody tr th {\n        vertical-align: top;\n    }\n\n    .dataframe thead th {\n        text-align: right;\n    }\n</style>\n<table border=\"1\" class=\"dataframe\">\n  <thead>\n    <tr style=\"text-align: right;\">\n      <th></th>\n      <th>original</th>\n      <th>converted</th>\n      <th>correct?</th>\n      <th>notes</th>\n      <th>partition</th>\n      <th>converter</th>\n      <th>Unnamed: 7</th>\n    </tr>\n  </thead>\n  <tbody>\n    <tr>\n      <th>1</th>\n      <td>B-7/E-</td>\n      <td>Bb:7/4</td>\n      <td>1.0</td>\n      <td>NaN</td>\n      <td>wikifonia</td>\n      <td>leadsheet</td>\n      <td>NaN</td>\n    </tr>\n    <tr>\n      <th>2</th>\n      <td>E-</td>\n      <td>Eb:maj</td>\n      <td>1.0</td>\n      <td>NaN</td>\n      <td>wikifonia</td>\n      <td>leadsheet</td>\n      <td>NaN</td>\n    </tr>\n    <tr>\n      <th>3</th>\n      <td>E-7</td>\n      <td>Eb:7</td>\n      <td>1.0</td>\n      <td>NaN</td>\n      <td>wikifonia</td>\n      <td>leadsheet</td>\n      <td>NaN</td>\n    </tr>\n    <tr>\n      <th>4</th>\n      <td>A-/E-</td>\n      <td>Ab:maj/5</td>\n      <td>1.0</td>\n      <td>I don't understand this one, Ab major always h...</td>\n      <td>wikifonia</td>\n      <td>leadsheet</td>\n      <td>NaN</td>\n    </tr>\n    <tr>\n      <th>5</th>\n      <td>E-</td>\n      <td>Eb:maj</td>\n      <td>1.0</td>\n      <td>NaN</td>\n      <td>wikifonia</td>\n      <td>leadsheet</td>\n      <td>NaN</td>\n    </tr>\n    <tr>\n      <th>...</th>\n      <td>...</td>\n      <td>...</td>\n      <td>...</td>\n      <td>...</td>\n      <td>...</td>\n      <td>...</td>\n      <td>...</td>\n    </tr>\n    <tr>\n      <th>15</th>\n      <td>C major:I64</td>\n      <td>C:maj/5</td>\n      <td>1.0</td>\n      <td>C maj / 5</td>\n      <td>when-in-rome</td>\n      <td>roman</td>\n      <td>NaN</td>\n    </tr>\n    <tr>\n      <th>16</th>\n      <td>C major:V7</td>\n      <td>G:7</td>\n      <td>1.0</td>\n      <td>NaN</td>\n      <td>when-in-rome</td>\n      <td>roman</td>\n      <td>NaN</td>\n    </tr>\n    <tr>\n      <th>17</th>\n      <td>C major:I64</td>\n      <td>C:maj/5</td>\n      <td>1.0</td>\n      <td>C maj / 5</td>\n      <td>when-in-rome</td>\n      <td>roman</td>\n      <td>NaN</td>\n    </tr>\n    <tr>\n      <th>18</th>\n      <td>C major:V</td>\n      <td>G:maj</td>\n      <td>1.0</td>\n      <td>NaN</td>\n      <td>when-in-rome</td>\n      <td>roman</td>\n      <td>NaN</td>\n    </tr>\n    <tr>\n      <th>19</th>\n      <td>C major:I</td>\n      <td>C:maj</td>\n      <td>1.0</td>\n      <td>NaN</td>\n      <td>when-in-rome</td>\n      <td>roman</td>\n      <td>NaN</td>\n    </tr>\n  </tbody>\n</table>\n<p>100 rows × 7 columns</p>\n</div>"
     },
     "execution_count": 27,
     "metadata": {},
     "output_type": "execute_result"
    }
   ],
   "source": [
    "all_validated = []\n",
    "\n",
    "biased_validated = []\n",
    "\n",
    "for biased_file in biased_paths:\n",
    "    biased_data = pd.read_excel(biased_file, engine='openpyxl')\n",
    "    validated_data = biased_data[biased_data['correct?'].notnull()]\n",
    "    validated_data = validated_data.assign(partition=biased_file.stem.split('_')[0])\n",
    "    validated_data = validated_data.assign(converter=converters_group[biased_file.stem.split('_')[0]])\n",
    "\n",
    "    biased_validated.append(validated_data)\n",
    "\n",
    "all_biased_validated = pd.concat(biased_validated)\n",
    "all_biased_validated.drop(['type', 'time', 'duration'], axis=1, inplace=True)\n",
    "all_validated.append(all_biased_validated)\n",
    "all_biased_validated"
   ],
   "metadata": {
    "collapsed": false
   }
  },
  {
   "cell_type": "code",
   "execution_count": 28,
   "outputs": [
    {
     "data": {
      "text/plain": "            original  converted  correct? notes     partition  converter\n0                 D7        D:7      True   NaN     wikifonia  leadsheet\n1                 E-     Eb:maj      True   NaN     wikifonia  leadsheet\n2              D7/F#      D:7/3      True   NaN     wikifonia  leadsheet\n3                 B-     Bb:maj      True   NaN     wikifonia  leadsheet\n4                D7+  D:aug(b7)      True   NaN     wikifonia  leadsheet\n..               ...        ...       ...   ...           ...        ...\n5       C major:iiø7    D:hdim7      True   NaN  when-in-rome      roman\n6   C major:III+6/ii    F:aug/3      True   NaN  when-in-rome      roman\n7        C major:I43   C:maj7/5      True   NaN  when-in-rome      roman\n8       C major:IV64    F:maj/5      True   NaN  when-in-rome      roman\n9      C major:viio7     B:dim7      True   NaN  when-in-rome      roman\n\n[96 rows x 6 columns]",
      "text/html": "<div>\n<style scoped>\n    .dataframe tbody tr th:only-of-type {\n        vertical-align: middle;\n    }\n\n    .dataframe tbody tr th {\n        vertical-align: top;\n    }\n\n    .dataframe thead th {\n        text-align: right;\n    }\n</style>\n<table border=\"1\" class=\"dataframe\">\n  <thead>\n    <tr style=\"text-align: right;\">\n      <th></th>\n      <th>original</th>\n      <th>converted</th>\n      <th>correct?</th>\n      <th>notes</th>\n      <th>partition</th>\n      <th>converter</th>\n    </tr>\n  </thead>\n  <tbody>\n    <tr>\n      <th>0</th>\n      <td>D7</td>\n      <td>D:7</td>\n      <td>True</td>\n      <td>NaN</td>\n      <td>wikifonia</td>\n      <td>leadsheet</td>\n    </tr>\n    <tr>\n      <th>1</th>\n      <td>E-</td>\n      <td>Eb:maj</td>\n      <td>True</td>\n      <td>NaN</td>\n      <td>wikifonia</td>\n      <td>leadsheet</td>\n    </tr>\n    <tr>\n      <th>2</th>\n      <td>D7/F#</td>\n      <td>D:7/3</td>\n      <td>True</td>\n      <td>NaN</td>\n      <td>wikifonia</td>\n      <td>leadsheet</td>\n    </tr>\n    <tr>\n      <th>3</th>\n      <td>B-</td>\n      <td>Bb:maj</td>\n      <td>True</td>\n      <td>NaN</td>\n      <td>wikifonia</td>\n      <td>leadsheet</td>\n    </tr>\n    <tr>\n      <th>4</th>\n      <td>D7+</td>\n      <td>D:aug(b7)</td>\n      <td>True</td>\n      <td>NaN</td>\n      <td>wikifonia</td>\n      <td>leadsheet</td>\n    </tr>\n    <tr>\n      <th>...</th>\n      <td>...</td>\n      <td>...</td>\n      <td>...</td>\n      <td>...</td>\n      <td>...</td>\n      <td>...</td>\n    </tr>\n    <tr>\n      <th>5</th>\n      <td>C major:iiø7</td>\n      <td>D:hdim7</td>\n      <td>True</td>\n      <td>NaN</td>\n      <td>when-in-rome</td>\n      <td>roman</td>\n    </tr>\n    <tr>\n      <th>6</th>\n      <td>C major:III+6/ii</td>\n      <td>F:aug/3</td>\n      <td>True</td>\n      <td>NaN</td>\n      <td>when-in-rome</td>\n      <td>roman</td>\n    </tr>\n    <tr>\n      <th>7</th>\n      <td>C major:I43</td>\n      <td>C:maj7/5</td>\n      <td>True</td>\n      <td>NaN</td>\n      <td>when-in-rome</td>\n      <td>roman</td>\n    </tr>\n    <tr>\n      <th>8</th>\n      <td>C major:IV64</td>\n      <td>F:maj/5</td>\n      <td>True</td>\n      <td>NaN</td>\n      <td>when-in-rome</td>\n      <td>roman</td>\n    </tr>\n    <tr>\n      <th>9</th>\n      <td>C major:viio7</td>\n      <td>B:dim7</td>\n      <td>True</td>\n      <td>NaN</td>\n      <td>when-in-rome</td>\n      <td>roman</td>\n    </tr>\n  </tbody>\n</table>\n<p>96 rows × 6 columns</p>\n</div>"
     },
     "execution_count": 28,
     "metadata": {},
     "output_type": "execute_result"
    }
   ],
   "source": [
    "unbiased_validated = []\n",
    "\n",
    "for unbiased_file in unbiased_paths:\n",
    "    unbiased_data = pd.read_excel(unbiased_file, engine='openpyxl')\n",
    "    unbiased_data = unbiased_data.assign(partition=unbiased_file.stem.split('_')[0])\n",
    "    unbiased_data = unbiased_data.assign(converter=converters_group[unbiased_file.stem.split('_')[0]])\n",
    "\n",
    "    unbiased_validated.append(unbiased_data)\n",
    "\n",
    "all_unbiased_validated = pd.concat(unbiased_validated)\n",
    "all_validated.append(all_unbiased_validated)\n",
    "all_unbiased_validated"
   ],
   "metadata": {
    "collapsed": false
   }
  },
  {
   "cell_type": "code",
   "execution_count": 29,
   "outputs": [
    {
     "data": {
      "text/plain": "            original converted  correct?  \\\n1             B-7/E-    Bb:7/4       1.0   \n2                 E-    Eb:maj       1.0   \n3                E-7      Eb:7       1.0   \n4              A-/E-  Ab:maj/5       1.0   \n5                 E-    Eb:maj       1.0   \n..               ...       ...       ...   \n5       C major:iiø7   D:hdim7       1.0   \n6   C major:III+6/ii   F:aug/3       1.0   \n7        C major:I43  C:maj7/5       1.0   \n8       C major:IV64   F:maj/5       1.0   \n9      C major:viio7    B:dim7       1.0   \n\n                                                notes     partition  \\\n1                                                 NaN     wikifonia   \n2                                                 NaN     wikifonia   \n3                                                 NaN     wikifonia   \n4   I don't understand this one, Ab major always h...     wikifonia   \n5                                                 NaN     wikifonia   \n..                                                ...           ...   \n5                                                 NaN  when-in-rome   \n6                                                 NaN  when-in-rome   \n7                                                 NaN  when-in-rome   \n8                                                 NaN  when-in-rome   \n9                                                 NaN  when-in-rome   \n\n    converter Unnamed: 7  \n1   leadsheet        NaN  \n2   leadsheet        NaN  \n3   leadsheet        NaN  \n4   leadsheet        NaN  \n5   leadsheet        NaN  \n..        ...        ...  \n5       roman        NaN  \n6       roman        NaN  \n7       roman        NaN  \n8       roman        NaN  \n9       roman        NaN  \n\n[196 rows x 7 columns]",
      "text/html": "<div>\n<style scoped>\n    .dataframe tbody tr th:only-of-type {\n        vertical-align: middle;\n    }\n\n    .dataframe tbody tr th {\n        vertical-align: top;\n    }\n\n    .dataframe thead th {\n        text-align: right;\n    }\n</style>\n<table border=\"1\" class=\"dataframe\">\n  <thead>\n    <tr style=\"text-align: right;\">\n      <th></th>\n      <th>original</th>\n      <th>converted</th>\n      <th>correct?</th>\n      <th>notes</th>\n      <th>partition</th>\n      <th>converter</th>\n      <th>Unnamed: 7</th>\n    </tr>\n  </thead>\n  <tbody>\n    <tr>\n      <th>1</th>\n      <td>B-7/E-</td>\n      <td>Bb:7/4</td>\n      <td>1.0</td>\n      <td>NaN</td>\n      <td>wikifonia</td>\n      <td>leadsheet</td>\n      <td>NaN</td>\n    </tr>\n    <tr>\n      <th>2</th>\n      <td>E-</td>\n      <td>Eb:maj</td>\n      <td>1.0</td>\n      <td>NaN</td>\n      <td>wikifonia</td>\n      <td>leadsheet</td>\n      <td>NaN</td>\n    </tr>\n    <tr>\n      <th>3</th>\n      <td>E-7</td>\n      <td>Eb:7</td>\n      <td>1.0</td>\n      <td>NaN</td>\n      <td>wikifonia</td>\n      <td>leadsheet</td>\n      <td>NaN</td>\n    </tr>\n    <tr>\n      <th>4</th>\n      <td>A-/E-</td>\n      <td>Ab:maj/5</td>\n      <td>1.0</td>\n      <td>I don't understand this one, Ab major always h...</td>\n      <td>wikifonia</td>\n      <td>leadsheet</td>\n      <td>NaN</td>\n    </tr>\n    <tr>\n      <th>5</th>\n      <td>E-</td>\n      <td>Eb:maj</td>\n      <td>1.0</td>\n      <td>NaN</td>\n      <td>wikifonia</td>\n      <td>leadsheet</td>\n      <td>NaN</td>\n    </tr>\n    <tr>\n      <th>...</th>\n      <td>...</td>\n      <td>...</td>\n      <td>...</td>\n      <td>...</td>\n      <td>...</td>\n      <td>...</td>\n      <td>...</td>\n    </tr>\n    <tr>\n      <th>5</th>\n      <td>C major:iiø7</td>\n      <td>D:hdim7</td>\n      <td>1.0</td>\n      <td>NaN</td>\n      <td>when-in-rome</td>\n      <td>roman</td>\n      <td>NaN</td>\n    </tr>\n    <tr>\n      <th>6</th>\n      <td>C major:III+6/ii</td>\n      <td>F:aug/3</td>\n      <td>1.0</td>\n      <td>NaN</td>\n      <td>when-in-rome</td>\n      <td>roman</td>\n      <td>NaN</td>\n    </tr>\n    <tr>\n      <th>7</th>\n      <td>C major:I43</td>\n      <td>C:maj7/5</td>\n      <td>1.0</td>\n      <td>NaN</td>\n      <td>when-in-rome</td>\n      <td>roman</td>\n      <td>NaN</td>\n    </tr>\n    <tr>\n      <th>8</th>\n      <td>C major:IV64</td>\n      <td>F:maj/5</td>\n      <td>1.0</td>\n      <td>NaN</td>\n      <td>when-in-rome</td>\n      <td>roman</td>\n      <td>NaN</td>\n    </tr>\n    <tr>\n      <th>9</th>\n      <td>C major:viio7</td>\n      <td>B:dim7</td>\n      <td>1.0</td>\n      <td>NaN</td>\n      <td>when-in-rome</td>\n      <td>roman</td>\n      <td>NaN</td>\n    </tr>\n  </tbody>\n</table>\n<p>196 rows × 7 columns</p>\n</div>"
     },
     "execution_count": 29,
     "metadata": {},
     "output_type": "execute_result"
    }
   ],
   "source": [
    "data = pd.concat(all_validated)\n",
    "\n",
    "data"
   ],
   "metadata": {
    "collapsed": false
   }
  },
  {
   "cell_type": "markdown",
   "source": [
    "## Compute data"
   ],
   "metadata": {
    "collapsed": false
   }
  },
  {
   "cell_type": "code",
   "execution_count": 30,
   "outputs": [
    {
     "name": "stdout",
     "output_type": "stream",
     "text": [
      "biased  leadsheet  has accuracy:  1.0\n",
      "biased  roman  has accuracy:  1.0\n",
      "unbiased  leadsheet  has accuracy:  0.95\n",
      "unbiased  roman  has accuracy:  1.0\n",
      "all data  leadsheet  has accuracy:  0.974\n",
      "all data  roman  has accuracy:  1.0\n"
     ]
    },
    {
     "data": {
      "text/plain": "{'leadsheet': 0.974, 'roman': 1.0, 'average': 0.985}"
     },
     "execution_count": 30,
     "metadata": {},
     "output_type": "execute_result"
    }
   ],
   "source": [
    "for x in all_biased_validated.groupby(['converter']):\n",
    "    print('biased ', x[0], ' has accuracy: ', x[1]['correct?'].mean().round(2))\n",
    "\n",
    "for x in all_unbiased_validated.groupby(['converter']):\n",
    "    print('unbiased ', x[0], ' has accuracy: ', x[1]['correct?'].mean().round(2))\n",
    "\n",
    "data_accuracy = {}\n",
    "\n",
    "for x in data.groupby(['converter']):\n",
    "    data_accuracy[x[0]] = x[1]['correct?'].mean().round(3)\n",
    "    print('all data ', x[0], ' has accuracy: ', x[1]['correct?'].mean().round(3))\n",
    "\n",
    "data_accuracy['average'] = (data['correct?'].mean().round(3))\n",
    "data_accuracy\n"
   ],
   "metadata": {
    "collapsed": false
   }
  },
  {
   "cell_type": "code",
   "execution_count": 31,
   "outputs": [
    {
     "data": {
      "text/plain": "<Figure size 432x288 with 1 Axes>",
      "image/png": "[encoded data removed]"
     },
     "metadata": {},
     "output_type": "display_data"
    }
   ],
   "source": [
    "plt.bar(range(len(data_accuracy)), list([x * 100 for x in data_accuracy.values()]), align='center')\n",
    "plt.xticks(range(len(data_accuracy)), list(data_accuracy.keys()))\n",
    "\n",
    "plt.show()"
   ],
   "metadata": {
    "collapsed": false
   }
  },
  {
   "cell_type": "code",
   "execution_count": 32,
   "outputs": [
    {
     "name": "stdout",
     "output_type": "stream",
     "text": [
      "all data  ireal-pro  has accuracy:  0.949\n",
      "all data  rock-corpus  has accuracy:  1.0\n",
      "all data  weimar  has accuracy:  1.0\n",
      "all data  when-in-rome  has accuracy:  1.0\n",
      "all data  wikifonia  has accuracy:  0.975\n"
     ]
    },
    {
     "data": {
      "text/plain": "{'ireal-pro': [39, 'leadsheet', 37, 2, 0.949],\n 'rock-corpus': [40, 'roman', 40, 0, 1.0],\n 'weimar': [37, 'leadsheet', 37, 0, 1.0],\n 'when-in-rome': [40, 'roman', 40, 0, 1.0],\n 'wikifonia': [40, 'leadsheet', 39, 1, 0.975],\n 'average': [196, 'all', 193, 3, 0.985]}"
     },
     "execution_count": 32,
     "metadata": {},
     "output_type": "execute_result"
    }
   ],
   "source": [
    "data_accuracy_partitions = {}\n",
    "\n",
    "for x in data.groupby(['partition']):\n",
    "    data_accuracy_partitions[x[0]] = [len(x[1]['correct?']),\n",
    "                                      ''.join([e for e in set(x[1]['converter'])]),\n",
    "                                      x[1]['correct?'].tolist().count(1),\n",
    "                                      x[1]['correct?'].tolist().count(0),\n",
    "                                      x[1]['correct?'].mean().round(3)]\n",
    "    print('all data ', x[0], ' has accuracy: ', x[1]['correct?'].mean().round(3))\n",
    "\n",
    "# calculate average\n",
    "data_accuracy_partitions['average'] = [len(data['correct?']),\n",
    "                                       'all',\n",
    "                                       data['correct?'].tolist().count(1),\n",
    "                                       data['correct?'].tolist().count(0),\n",
    "                                       data['correct?'].mean().round(3)]\n",
    "\n",
    "data_accuracy_partitions"
   ],
   "metadata": {
    "collapsed": false
   }
  },
  {
   "cell_type": "code",
   "execution_count": 43,
   "outputs": [
    {
     "name": "stdout",
     "output_type": "stream",
     "text": [
      "\\begin{tabular}{lrlrrr}\n",
      "\\toprule\n",
      "{} &  Validated chords & Chords type &  Correct chords &  Wrong chords &  Accuracy \\\\\n",
      "\\midrule\n",
      "ireal-pro    &                39 &   leadsheet &              37 &             2 &     0.949 \\\\\n",
      "rock-corpus  &                40 &       roman &              40 &             0 &     1.000 \\\\\n",
      "weimar       &                37 &   leadsheet &              37 &             0 &     1.000 \\\\\n",
      "when-in-rome &                40 &       roman &              40 &             0 &     1.000 \\\\\n",
      "wikifonia    &                40 &   leadsheet &              39 &             1 &     0.975 \\\\\n",
      "average      &               196 &         all &             193 &             3 &     0.985 \\\\\n",
      "\\bottomrule\n",
      "\\end{tabular}\n",
      "\n"
     ]
    },
    {
     "name": "stderr",
     "output_type": "stream",
     "text": [
      "/var/folders/y6/881nbsns7rx5scbj8lx6ysym0000gn/T/ipykernel_70294/1581596972.py:3: FutureWarning: In future versions `DataFrame.to_latex` is expected to utilise the base implementation of `Styler.to_latex` for formatting and rendering. The arguments signature may therefore change. It is recommended instead to use `DataFrame.style.to_latex` which also contains additional functionality.\n",
      "  print(computed_accuracy.to_latex())\n"
     ]
    }
   ],
   "source": [
    "computed_accuracy = pd.DataFrame.from_dict(data_accuracy_partitions, orient ='index', columns=['Validated chords', 'Chords type', 'Correct chords', 'Wrong chords', 'Accuracy'])\n",
    "\n",
    "print(computed_accuracy.to_latex())"
   ],
   "metadata": {
    "collapsed": false
   }
  },
  {
   "cell_type": "code",
   "execution_count": 37,
   "outputs": [
    {
     "ename": "TypeError",
     "evalue": "can't convert type 'list' to numerator/denominator",
     "output_type": "error",
     "traceback": [
      "\u001B[0;31m---------------------------------------------------------------------------\u001B[0m",
      "\u001B[0;31mTypeError\u001B[0m                                 Traceback (most recent call last)",
      "Input \u001B[0;32mIn [37]\u001B[0m, in \u001B[0;36m<cell line: 9>\u001B[0;34m()\u001B[0m\n\u001B[1;32m      7\u001B[0m plt\u001B[38;5;241m.\u001B[39mxticks(\u001B[38;5;28mrange\u001B[39m(\u001B[38;5;28mlen\u001B[39m(data_accuracy_partitions)), \u001B[38;5;28mlist\u001B[39m(data_accuracy_partitions\u001B[38;5;241m.\u001B[39mkeys()))\n\u001B[1;32m      8\u001B[0m plt\u001B[38;5;241m.\u001B[39myscale(\u001B[38;5;124m'\u001B[39m\u001B[38;5;124mlinear\u001B[39m\u001B[38;5;124m'\u001B[39m)\n\u001B[0;32m----> 9\u001B[0m average \u001B[38;5;241m=\u001B[39m plt\u001B[38;5;241m.\u001B[39maxhline(y\u001B[38;5;241m=\u001B[39m\u001B[43mmean\u001B[49m\u001B[43m(\u001B[49m\u001B[43mdata_accuracy_partitions\u001B[49m\u001B[38;5;241;43m.\u001B[39;49m\u001B[43mvalues\u001B[49m\u001B[43m(\u001B[49m\u001B[43m)\u001B[49m\u001B[43m)\u001B[49m \u001B[38;5;241m*\u001B[39m \u001B[38;5;241m100\u001B[39m, color\u001B[38;5;241m=\u001B[39m\u001B[38;5;124m'\u001B[39m\u001B[38;5;124mred\u001B[39m\u001B[38;5;124m'\u001B[39m, label\u001B[38;5;241m=\u001B[39m\u001B[38;5;124m'\u001B[39m\u001B[38;5;124maverage\u001B[39m\u001B[38;5;124m'\u001B[39m)\n\u001B[1;32m     10\u001B[0m first_legend \u001B[38;5;241m=\u001B[39m plt\u001B[38;5;241m.\u001B[39mlegend(handles\u001B[38;5;241m=\u001B[39m[average], loc\u001B[38;5;241m=\u001B[39m\u001B[38;5;241m4\u001B[39m)\n\u001B[1;32m     12\u001B[0m plt\u001B[38;5;241m.\u001B[39mshow()\n",
      "File \u001B[0;32m~/.conda/envs/choco/lib/python3.9/statistics.py:316\u001B[0m, in \u001B[0;36mmean\u001B[0;34m(data)\u001B[0m\n\u001B[1;32m    314\u001B[0m \u001B[38;5;28;01mif\u001B[39;00m n \u001B[38;5;241m<\u001B[39m \u001B[38;5;241m1\u001B[39m:\n\u001B[1;32m    315\u001B[0m     \u001B[38;5;28;01mraise\u001B[39;00m StatisticsError(\u001B[38;5;124m'\u001B[39m\u001B[38;5;124mmean requires at least one data point\u001B[39m\u001B[38;5;124m'\u001B[39m)\n\u001B[0;32m--> 316\u001B[0m T, total, count \u001B[38;5;241m=\u001B[39m \u001B[43m_sum\u001B[49m\u001B[43m(\u001B[49m\u001B[43mdata\u001B[49m\u001B[43m)\u001B[49m\n\u001B[1;32m    317\u001B[0m \u001B[38;5;28;01massert\u001B[39;00m count \u001B[38;5;241m==\u001B[39m n\n\u001B[1;32m    318\u001B[0m \u001B[38;5;28;01mreturn\u001B[39;00m _convert(total \u001B[38;5;241m/\u001B[39m n, T)\n",
      "File \u001B[0;32m~/.conda/envs/choco/lib/python3.9/statistics.py:166\u001B[0m, in \u001B[0;36m_sum\u001B[0;34m(data, start)\u001B[0m\n\u001B[1;32m    164\u001B[0m \u001B[38;5;28;01mfor\u001B[39;00m typ, values \u001B[38;5;129;01min\u001B[39;00m groupby(data, \u001B[38;5;28mtype\u001B[39m):\n\u001B[1;32m    165\u001B[0m     T \u001B[38;5;241m=\u001B[39m _coerce(T, typ)  \u001B[38;5;66;03m# or raise TypeError\u001B[39;00m\n\u001B[0;32m--> 166\u001B[0m     \u001B[38;5;28;01mfor\u001B[39;00m n, d \u001B[38;5;129;01min\u001B[39;00m \u001B[38;5;28mmap\u001B[39m(_exact_ratio, values):\n\u001B[1;32m    167\u001B[0m         count \u001B[38;5;241m+\u001B[39m\u001B[38;5;241m=\u001B[39m \u001B[38;5;241m1\u001B[39m\n\u001B[1;32m    168\u001B[0m         partials[d] \u001B[38;5;241m=\u001B[39m partials_get(d, \u001B[38;5;241m0\u001B[39m) \u001B[38;5;241m+\u001B[39m n\n",
      "File \u001B[0;32m~/.conda/envs/choco/lib/python3.9/statistics.py:248\u001B[0m, in \u001B[0;36m_exact_ratio\u001B[0;34m(x)\u001B[0m\n\u001B[1;32m    246\u001B[0m     \u001B[38;5;28;01mreturn\u001B[39;00m (x, \u001B[38;5;28;01mNone\u001B[39;00m)\n\u001B[1;32m    247\u001B[0m msg \u001B[38;5;241m=\u001B[39m \u001B[38;5;124m\"\u001B[39m\u001B[38;5;124mcan\u001B[39m\u001B[38;5;124m'\u001B[39m\u001B[38;5;124mt convert type \u001B[39m\u001B[38;5;124m'\u001B[39m\u001B[38;5;132;01m{}\u001B[39;00m\u001B[38;5;124m'\u001B[39m\u001B[38;5;124m to numerator/denominator\u001B[39m\u001B[38;5;124m\"\u001B[39m\n\u001B[0;32m--> 248\u001B[0m \u001B[38;5;28;01mraise\u001B[39;00m \u001B[38;5;167;01mTypeError\u001B[39;00m(msg\u001B[38;5;241m.\u001B[39mformat(\u001B[38;5;28mtype\u001B[39m(x)\u001B[38;5;241m.\u001B[39m\u001B[38;5;18m__name__\u001B[39m))\n",
      "\u001B[0;31mTypeError\u001B[0m: can't convert type 'list' to numerator/denominator"
     ]
    },
    {
     "data": {
      "text/plain": "<Figure size 1440x1080 with 1 Axes>",
      "image/png": "[encoded data removed]"
     },
     "metadata": {},
     "output_type": "display_data"
    }
   ],
   "source": [
    "from matplotlib.pyplot import figure\n",
    "\n",
    "figure(figsize=(8, 6), dpi=180)\n",
    "\n",
    "plt.bar(range(len(data_accuracy_partitions)), list([x[-1] * 100 for x in data_accuracy_partitions.values()]),\n",
    "        align='center', color=['mediumblue', 'darkviolet', 'hotpink', 'crimson', 'orangered'])\n",
    "plt.xticks(range(len(data_accuracy_partitions)), list(data_accuracy_partitions.keys()))\n",
    "plt.yscale('linear')\n",
    "average = plt.axhline(y=mean(data_accuracy_partitions.values()) * 100, color='red', label='average')\n",
    "first_legend = plt.legend(handles=[average], loc=4)\n",
    "\n",
    "plt.show()"
   ],
   "metadata": {
    "collapsed": false
   }
  }
 ],
 "metadata": {
  "kernelspec": {
   "display_name": "Python 3",
   "language": "python",
   "name": "python3"
  },
  "language_info": {
   "codemirror_mode": {
    "name": "ipython",
    "version": 2
   },
   "file_extension": ".py",
   "mimetype": "text/x-python",
   "name": "python",
   "nbconvert_exporter": "python",
   "pygments_lexer": "ipython2",
   "version": "2.7.6"
  }
 },
 "nbformat": 4,
 "nbformat_minor": 0
}
