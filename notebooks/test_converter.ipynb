{
 "cells": [
  {
   "cell_type": "markdown",
   "source": [
    "# Converter-Test: test of the Converters Module"
   ],
   "metadata": {
    "collapsed": false,
    "pycharm": {
     "name": "#%% md\n"
    }
   }
  },
  {
   "cell_type": "code",
   "execution_count": 41,
   "metadata": {
    "collapsed": true,
    "pycharm": {
     "name": "#%%\n"
    }
   },
   "outputs": [],
   "source": [
    "import os\n",
    "import sys\n",
    "import glob\n",
    "\n",
    "import pandas as pd\n",
    "import matplotlib.pyplot as plt\n",
    "import seaborn as sns\n",
    "\n",
    "from pathlib import Path\n",
    "from statistics import mean\n",
    "\n",
    "RESULTS_PATH = Path('../choco/converters/validation/results')\n",
    "\n",
    "sys.path.append(os.path.join(os.path.dirname(os.getcwd()), 'choco'))"
   ]
  },
  {
   "cell_type": "code",
   "execution_count": 42,
   "outputs": [],
   "source": [
    "def open_results(results_path: str) -> None:\n",
    "    pass"
   ],
   "metadata": {
    "collapsed": false,
    "pycharm": {
     "name": "#%%\n"
    }
   }
  },
  {
   "cell_type": "markdown",
   "source": [
    "### Process results folder"
   ],
   "metadata": {
    "collapsed": false,
    "pycharm": {
     "name": "#%% md\n"
    }
   }
  },
  {
   "cell_type": "code",
   "execution_count": 43,
   "outputs": [
    {
     "name": "stdout",
     "output_type": "stream",
     "text": [
      "Found 20 biased evaluation files:\n",
      " ['ireal-pro_116', 'ireal-pro_503', 'rock-corpus_104', 'rock-corpus_30', 'when-in-rome_250', 'when-in-rome_244', 'weimar_222', 'weimar_328', 'wikifonia_4429', 'wikifonia_2286', 'ireal-pro_914', 'ireal-pro_542', 'rock-corpus_4', 'rock-corpus_16', 'when-in-rome_109', 'when-in-rome_406', 'weimar_263', 'weimar_8', 'wikifonia_1047', 'wikifonia_1194']\n",
      "\n",
      "Found 10 unbiased evaluation files:\n",
      " ['ireal-pro_558', 'ireal-pro_1103', 'rock-corpus_34', 'rock-corpus_183', 'when-in-rome_205', 'when-in-rome_61', 'weimar_433', 'weimar_279', 'wikifonia_4327', 'wikifonia_3442']\n",
      "\n"
     ]
    }
   ],
   "source": [
    "converters_group = {\n",
    "    'wikifonia': 'leadsheet',\n",
    "    'ireal-pro': 'leadsheet',\n",
    "    'weimar': 'leadsheet',\n",
    "    'nottingham': 'leadsheet',\n",
    "    'when-in-rome': 'roman',\n",
    "    'rock-corpus': 'roman',\n",
    "    'jazz-corpus': 'leadsheet',\n",
    "    'band-in-a-box': 'prettify-harte',\n",
    "    'mozart-piano-sonatas': 'roman',\n",
    "}\n",
    "\n",
    "biased_paths = [p for p in RESULTS_PATH.rglob('s2-0[1-2]/**/*.xlsx')]\n",
    "unbiased_paths = [p for p in RESULTS_PATH.rglob('s2-0[3-4]/**/*.xlsx')]\n",
    "\n",
    "print(f'Found {len(biased_paths)} biased evaluation files:\\n {[x.stem for x in biased_paths]}\\n')\n",
    "print(f'Found {len(unbiased_paths)} unbiased evaluation files:\\n {[x.stem for x in unbiased_paths]}\\n')"
   ],
   "metadata": {
    "collapsed": false,
    "pycharm": {
     "name": "#%%\n"
    }
   }
  },
  {
   "cell_type": "code",
   "execution_count": 44,
   "outputs": [
    {
     "data": {
      "text/plain": "   original  converted  correct?     notes  partition  converter Unnamed: 7\n24      E^7     E:maj7       1.0       NaN  ireal-pro  leadsheet        NaN\n25    C7b13  C:9(1b13)       0.0  C:9(b13)  ireal-pro  leadsheet        NaN\n26      F-7     F:min7       1.0       NaN  ireal-pro  leadsheet        NaN\n27     Bb-7    Bb:min7       1.0       NaN  ireal-pro  leadsheet        NaN\n28      Eb7       Eb:7       1.0       NaN  ireal-pro  leadsheet        NaN\n..      ...        ...       ...       ...        ...        ...        ...\n6    B-7/E-     Bb:7/4       1.0       NaN  wikifonia  leadsheet        NaN\n7        E-     Eb:maj       1.0       NaN  wikifonia  leadsheet        NaN\n8       E-7       Eb:7       1.0       NaN  wikifonia  leadsheet        NaN\n9     A-/E-   Ab:maj/5       1.0       NaN  wikifonia  leadsheet        NaN\n10       E-     Eb:maj       1.0       NaN  wikifonia  leadsheet        NaN\n\n[200 rows x 7 columns]",
      "text/html": "<div>\n<style scoped>\n    .dataframe tbody tr th:only-of-type {\n        vertical-align: middle;\n    }\n\n    .dataframe tbody tr th {\n        vertical-align: top;\n    }\n\n    .dataframe thead th {\n        text-align: right;\n    }\n</style>\n<table border=\"1\" class=\"dataframe\">\n  <thead>\n    <tr style=\"text-align: right;\">\n      <th></th>\n      <th>original</th>\n      <th>converted</th>\n      <th>correct?</th>\n      <th>notes</th>\n      <th>partition</th>\n      <th>converter</th>\n      <th>Unnamed: 7</th>\n    </tr>\n  </thead>\n  <tbody>\n    <tr>\n      <th>24</th>\n      <td>E^7</td>\n      <td>E:maj7</td>\n      <td>1.0</td>\n      <td>NaN</td>\n      <td>ireal-pro</td>\n      <td>leadsheet</td>\n      <td>NaN</td>\n    </tr>\n    <tr>\n      <th>25</th>\n      <td>C7b13</td>\n      <td>C:9(1b13)</td>\n      <td>0.0</td>\n      <td>C:9(b13)</td>\n      <td>ireal-pro</td>\n      <td>leadsheet</td>\n      <td>NaN</td>\n    </tr>\n    <tr>\n      <th>26</th>\n      <td>F-7</td>\n      <td>F:min7</td>\n      <td>1.0</td>\n      <td>NaN</td>\n      <td>ireal-pro</td>\n      <td>leadsheet</td>\n      <td>NaN</td>\n    </tr>\n    <tr>\n      <th>27</th>\n      <td>Bb-7</td>\n      <td>Bb:min7</td>\n      <td>1.0</td>\n      <td>NaN</td>\n      <td>ireal-pro</td>\n      <td>leadsheet</td>\n      <td>NaN</td>\n    </tr>\n    <tr>\n      <th>28</th>\n      <td>Eb7</td>\n      <td>Eb:7</td>\n      <td>1.0</td>\n      <td>NaN</td>\n      <td>ireal-pro</td>\n      <td>leadsheet</td>\n      <td>NaN</td>\n    </tr>\n    <tr>\n      <th>...</th>\n      <td>...</td>\n      <td>...</td>\n      <td>...</td>\n      <td>...</td>\n      <td>...</td>\n      <td>...</td>\n      <td>...</td>\n    </tr>\n    <tr>\n      <th>6</th>\n      <td>B-7/E-</td>\n      <td>Bb:7/4</td>\n      <td>1.0</td>\n      <td>NaN</td>\n      <td>wikifonia</td>\n      <td>leadsheet</td>\n      <td>NaN</td>\n    </tr>\n    <tr>\n      <th>7</th>\n      <td>E-</td>\n      <td>Eb:maj</td>\n      <td>1.0</td>\n      <td>NaN</td>\n      <td>wikifonia</td>\n      <td>leadsheet</td>\n      <td>NaN</td>\n    </tr>\n    <tr>\n      <th>8</th>\n      <td>E-7</td>\n      <td>Eb:7</td>\n      <td>1.0</td>\n      <td>NaN</td>\n      <td>wikifonia</td>\n      <td>leadsheet</td>\n      <td>NaN</td>\n    </tr>\n    <tr>\n      <th>9</th>\n      <td>A-/E-</td>\n      <td>Ab:maj/5</td>\n      <td>1.0</td>\n      <td>NaN</td>\n      <td>wikifonia</td>\n      <td>leadsheet</td>\n      <td>NaN</td>\n    </tr>\n    <tr>\n      <th>10</th>\n      <td>E-</td>\n      <td>Eb:maj</td>\n      <td>1.0</td>\n      <td>NaN</td>\n      <td>wikifonia</td>\n      <td>leadsheet</td>\n      <td>NaN</td>\n    </tr>\n  </tbody>\n</table>\n<p>200 rows × 7 columns</p>\n</div>"
     },
     "execution_count": 44,
     "metadata": {},
     "output_type": "execute_result"
    }
   ],
   "source": [
    "all_validated = []\n",
    "\n",
    "biased_validated = []\n",
    "\n",
    "for biased_file in biased_paths:\n",
    "    biased_data = pd.read_excel(biased_file, engine='openpyxl')\n",
    "    validated_data = biased_data[biased_data['correct?'].notnull()]\n",
    "    validated_data = validated_data.assign(partition=biased_file.stem.split('_')[0])\n",
    "    validated_data = validated_data.assign(converter=converters_group[biased_file.stem.split('_')[0]])\n",
    "\n",
    "    biased_validated.append(validated_data)\n",
    "\n",
    "all_biased_validated = pd.concat(biased_validated)\n",
    "all_biased_validated.drop(['type', 'time', 'duration'], axis=1, inplace=True)\n",
    "all_validated.append(all_biased_validated)\n",
    "all_biased_validated"
   ],
   "metadata": {
    "collapsed": false,
    "pycharm": {
     "name": "#%%\n"
    }
   }
  },
  {
   "cell_type": "code",
   "execution_count": 45,
   "outputs": [
    {
     "data": {
      "text/plain": "   original  converted  correct?         notes  partition  converter\n0        A7        A:7      True           NaN  ireal-pro  leadsheet\n1      Eb-7    Eb:min7      True           NaN  ireal-pro  leadsheet\n2       Db7       Db:7      True           NaN  ireal-pro  leadsheet\n3       G13   G:9(113)     False  G:7(9,11,13)  ireal-pro  leadsheet\n4      Db^7    Db:maj7      True           NaN  ireal-pro  leadsheet\n..      ...        ...       ...           ...        ...        ...\n5       Cm9     C:min9      True           NaN  wikifonia  leadsheet\n6       Cm7     C:min7      True           NaN  wikifonia  leadsheet\n7   F#dim/G  F#:dim/b9      True           NaN  wikifonia  leadsheet\n8       B-7       Bb:7      True           NaN  wikifonia  leadsheet\n9       F13   F:9(113)     False  F:7(9,11,13)  wikifonia  leadsheet\n\n[96 rows x 6 columns]",
      "text/html": "<div>\n<style scoped>\n    .dataframe tbody tr th:only-of-type {\n        vertical-align: middle;\n    }\n\n    .dataframe tbody tr th {\n        vertical-align: top;\n    }\n\n    .dataframe thead th {\n        text-align: right;\n    }\n</style>\n<table border=\"1\" class=\"dataframe\">\n  <thead>\n    <tr style=\"text-align: right;\">\n      <th></th>\n      <th>original</th>\n      <th>converted</th>\n      <th>correct?</th>\n      <th>notes</th>\n      <th>partition</th>\n      <th>converter</th>\n    </tr>\n  </thead>\n  <tbody>\n    <tr>\n      <th>0</th>\n      <td>A7</td>\n      <td>A:7</td>\n      <td>True</td>\n      <td>NaN</td>\n      <td>ireal-pro</td>\n      <td>leadsheet</td>\n    </tr>\n    <tr>\n      <th>1</th>\n      <td>Eb-7</td>\n      <td>Eb:min7</td>\n      <td>True</td>\n      <td>NaN</td>\n      <td>ireal-pro</td>\n      <td>leadsheet</td>\n    </tr>\n    <tr>\n      <th>2</th>\n      <td>Db7</td>\n      <td>Db:7</td>\n      <td>True</td>\n      <td>NaN</td>\n      <td>ireal-pro</td>\n      <td>leadsheet</td>\n    </tr>\n    <tr>\n      <th>3</th>\n      <td>G13</td>\n      <td>G:9(113)</td>\n      <td>False</td>\n      <td>G:7(9,11,13)</td>\n      <td>ireal-pro</td>\n      <td>leadsheet</td>\n    </tr>\n    <tr>\n      <th>4</th>\n      <td>Db^7</td>\n      <td>Db:maj7</td>\n      <td>True</td>\n      <td>NaN</td>\n      <td>ireal-pro</td>\n      <td>leadsheet</td>\n    </tr>\n    <tr>\n      <th>...</th>\n      <td>...</td>\n      <td>...</td>\n      <td>...</td>\n      <td>...</td>\n      <td>...</td>\n      <td>...</td>\n    </tr>\n    <tr>\n      <th>5</th>\n      <td>Cm9</td>\n      <td>C:min9</td>\n      <td>True</td>\n      <td>NaN</td>\n      <td>wikifonia</td>\n      <td>leadsheet</td>\n    </tr>\n    <tr>\n      <th>6</th>\n      <td>Cm7</td>\n      <td>C:min7</td>\n      <td>True</td>\n      <td>NaN</td>\n      <td>wikifonia</td>\n      <td>leadsheet</td>\n    </tr>\n    <tr>\n      <th>7</th>\n      <td>F#dim/G</td>\n      <td>F#:dim/b9</td>\n      <td>True</td>\n      <td>NaN</td>\n      <td>wikifonia</td>\n      <td>leadsheet</td>\n    </tr>\n    <tr>\n      <th>8</th>\n      <td>B-7</td>\n      <td>Bb:7</td>\n      <td>True</td>\n      <td>NaN</td>\n      <td>wikifonia</td>\n      <td>leadsheet</td>\n    </tr>\n    <tr>\n      <th>9</th>\n      <td>F13</td>\n      <td>F:9(113)</td>\n      <td>False</td>\n      <td>F:7(9,11,13)</td>\n      <td>wikifonia</td>\n      <td>leadsheet</td>\n    </tr>\n  </tbody>\n</table>\n<p>96 rows × 6 columns</p>\n</div>"
     },
     "execution_count": 45,
     "metadata": {},
     "output_type": "execute_result"
    }
   ],
   "source": [
    "unbiased_validated = []\n",
    "\n",
    "for unbiased_file in unbiased_paths:\n",
    "    unbiased_data = pd.read_excel(unbiased_file, engine='openpyxl')\n",
    "    unbiased_data = unbiased_data.assign(partition=unbiased_file.stem.split('_')[0])\n",
    "    unbiased_data = unbiased_data.assign(converter=converters_group[unbiased_file.stem.split('_')[0]])\n",
    "\n",
    "    unbiased_validated.append(unbiased_data)\n",
    "\n",
    "all_unbiased_validated = pd.concat(unbiased_validated)\n",
    "all_validated.append(all_unbiased_validated)\n",
    "all_unbiased_validated"
   ],
   "metadata": {
    "collapsed": false,
    "pycharm": {
     "name": "#%%\n"
    }
   }
  },
  {
   "cell_type": "code",
   "execution_count": 46,
   "outputs": [
    {
     "data": {
      "text/plain": "   original  converted  correct?         notes  partition  converter  \\\n24      E^7     E:maj7       1.0           NaN  ireal-pro  leadsheet   \n25    C7b13  C:9(1b13)       0.0      C:9(b13)  ireal-pro  leadsheet   \n26      F-7     F:min7       1.0           NaN  ireal-pro  leadsheet   \n27     Bb-7    Bb:min7       1.0           NaN  ireal-pro  leadsheet   \n28      Eb7       Eb:7       1.0           NaN  ireal-pro  leadsheet   \n..      ...        ...       ...           ...        ...        ...   \n5       Cm9     C:min9       1.0           NaN  wikifonia  leadsheet   \n6       Cm7     C:min7       1.0           NaN  wikifonia  leadsheet   \n7   F#dim/G  F#:dim/b9       1.0           NaN  wikifonia  leadsheet   \n8       B-7       Bb:7       1.0           NaN  wikifonia  leadsheet   \n9       F13   F:9(113)       0.0  F:7(9,11,13)  wikifonia  leadsheet   \n\n   Unnamed: 7  \n24        NaN  \n25        NaN  \n26        NaN  \n27        NaN  \n28        NaN  \n..        ...  \n5         NaN  \n6         NaN  \n7         NaN  \n8         NaN  \n9         NaN  \n\n[296 rows x 7 columns]",
      "text/html": "<div>\n<style scoped>\n    .dataframe tbody tr th:only-of-type {\n        vertical-align: middle;\n    }\n\n    .dataframe tbody tr th {\n        vertical-align: top;\n    }\n\n    .dataframe thead th {\n        text-align: right;\n    }\n</style>\n<table border=\"1\" class=\"dataframe\">\n  <thead>\n    <tr style=\"text-align: right;\">\n      <th></th>\n      <th>original</th>\n      <th>converted</th>\n      <th>correct?</th>\n      <th>notes</th>\n      <th>partition</th>\n      <th>converter</th>\n      <th>Unnamed: 7</th>\n    </tr>\n  </thead>\n  <tbody>\n    <tr>\n      <th>24</th>\n      <td>E^7</td>\n      <td>E:maj7</td>\n      <td>1.0</td>\n      <td>NaN</td>\n      <td>ireal-pro</td>\n      <td>leadsheet</td>\n      <td>NaN</td>\n    </tr>\n    <tr>\n      <th>25</th>\n      <td>C7b13</td>\n      <td>C:9(1b13)</td>\n      <td>0.0</td>\n      <td>C:9(b13)</td>\n      <td>ireal-pro</td>\n      <td>leadsheet</td>\n      <td>NaN</td>\n    </tr>\n    <tr>\n      <th>26</th>\n      <td>F-7</td>\n      <td>F:min7</td>\n      <td>1.0</td>\n      <td>NaN</td>\n      <td>ireal-pro</td>\n      <td>leadsheet</td>\n      <td>NaN</td>\n    </tr>\n    <tr>\n      <th>27</th>\n      <td>Bb-7</td>\n      <td>Bb:min7</td>\n      <td>1.0</td>\n      <td>NaN</td>\n      <td>ireal-pro</td>\n      <td>leadsheet</td>\n      <td>NaN</td>\n    </tr>\n    <tr>\n      <th>28</th>\n      <td>Eb7</td>\n      <td>Eb:7</td>\n      <td>1.0</td>\n      <td>NaN</td>\n      <td>ireal-pro</td>\n      <td>leadsheet</td>\n      <td>NaN</td>\n    </tr>\n    <tr>\n      <th>...</th>\n      <td>...</td>\n      <td>...</td>\n      <td>...</td>\n      <td>...</td>\n      <td>...</td>\n      <td>...</td>\n      <td>...</td>\n    </tr>\n    <tr>\n      <th>5</th>\n      <td>Cm9</td>\n      <td>C:min9</td>\n      <td>1.0</td>\n      <td>NaN</td>\n      <td>wikifonia</td>\n      <td>leadsheet</td>\n      <td>NaN</td>\n    </tr>\n    <tr>\n      <th>6</th>\n      <td>Cm7</td>\n      <td>C:min7</td>\n      <td>1.0</td>\n      <td>NaN</td>\n      <td>wikifonia</td>\n      <td>leadsheet</td>\n      <td>NaN</td>\n    </tr>\n    <tr>\n      <th>7</th>\n      <td>F#dim/G</td>\n      <td>F#:dim/b9</td>\n      <td>1.0</td>\n      <td>NaN</td>\n      <td>wikifonia</td>\n      <td>leadsheet</td>\n      <td>NaN</td>\n    </tr>\n    <tr>\n      <th>8</th>\n      <td>B-7</td>\n      <td>Bb:7</td>\n      <td>1.0</td>\n      <td>NaN</td>\n      <td>wikifonia</td>\n      <td>leadsheet</td>\n      <td>NaN</td>\n    </tr>\n    <tr>\n      <th>9</th>\n      <td>F13</td>\n      <td>F:9(113)</td>\n      <td>0.0</td>\n      <td>F:7(9,11,13)</td>\n      <td>wikifonia</td>\n      <td>leadsheet</td>\n      <td>NaN</td>\n    </tr>\n  </tbody>\n</table>\n<p>296 rows × 7 columns</p>\n</div>"
     },
     "execution_count": 46,
     "metadata": {},
     "output_type": "execute_result"
    }
   ],
   "source": [
    "data = pd.concat(all_validated)\n",
    "data"
   ],
   "metadata": {
    "collapsed": false,
    "pycharm": {
     "name": "#%%\n"
    }
   }
  },
  {
   "cell_type": "markdown",
   "source": [
    "## Compute data"
   ],
   "metadata": {
    "collapsed": false,
    "pycharm": {
     "name": "#%% md\n"
    }
   }
  },
  {
   "cell_type": "code",
   "execution_count": 65,
   "outputs": [
    {
     "name": "stdout",
     "output_type": "stream",
     "text": [
      "biased  leadsheet  has accuracy:  0.99\n",
      "biased  roman  has accuracy:  0.99\n",
      "unbiased  leadsheet  has accuracy:  0.95\n",
      "unbiased  roman  has accuracy:  1.0\n",
      "all data  leadsheet  has accuracy:  0.977\n",
      "all data  roman  has accuracy:  0.992\n"
     ]
    },
    {
     "data": {
      "text/plain": "{'leadsheet': 0.977, 'roman': 0.992, 'average': 0.983}"
     },
     "execution_count": 65,
     "metadata": {},
     "output_type": "execute_result"
    }
   ],
   "source": [
    "for x in all_biased_validated.groupby(['converter']):\n",
    "    if ',' in x[1]['original']:\n",
    "        print(x[1]['original'])\n",
    "    print('biased ', x[0], ' has accuracy: ', x[1]['correct?'].mean().round(2))\n",
    "\n",
    "for x in all_unbiased_validated.groupby(['converter']):\n",
    "    if ',' in x[1]['original']:\n",
    "        print(x[1]['original'])\n",
    "    print('unbiased ', x[0], ' has accuracy: ', x[1]['correct?'].mean().round(2))\n",
    "\n",
    "data_accuracy = {}\n",
    "\n",
    "for x in data.groupby(['converter']):\n",
    "    data_accuracy[x[0]] = x[1]['correct?'].mean().round(3)\n",
    "    print('all data ', x[0], ' has accuracy: ', x[1]['correct?'].mean().round(3))\n",
    "\n",
    "data_accuracy['average'] = (data['correct?'].mean().round(3))\n",
    "data_accuracy\n"
   ],
   "metadata": {
    "collapsed": false,
    "pycharm": {
     "name": "#%%\n"
    }
   }
  },
  {
   "cell_type": "code",
   "execution_count": null,
   "outputs": [],
   "source": [],
   "metadata": {
    "collapsed": false,
    "pycharm": {
     "name": "#%%\n"
    }
   }
  }
 ],
 "metadata": {
  "kernelspec": {
   "display_name": "Python 3",
   "language": "python",
   "name": "python3"
  },
  "language_info": {
   "codemirror_mode": {
    "name": "ipython",
    "version": 2
   },
   "file_extension": ".py",
   "mimetype": "text/x-python",
   "name": "python",
   "nbconvert_exporter": "python",
   "pygments_lexer": "ipython2",
   "version": "2.7.6"
  }
 },
 "nbformat": 4,
 "nbformat_minor": 0
}